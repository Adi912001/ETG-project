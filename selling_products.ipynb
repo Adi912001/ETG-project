{
 "cells": [
  {
   "cell_type": "code",
   "execution_count": 2,
   "metadata": {
    "colab": {
     "base_uri": "https://localhost:8080/"
    },
    "id": "uqT9B6as4Oj1",
    "outputId": "1efade89-c092-412a-c5d9-424d07c0e821"
   },
   "outputs": [
    {
     "name": "stdout",
     "output_type": "stream",
     "text": [
      "Welcome to shop\n",
      "Enter the product Id: 1001\n",
      "Enter the quantity of the Product: 12\n",
      "****************************************\n",
      " product: Pepsi Can\n",
      " price: 153\n",
      " Expiry date: 20 oct 2023\n",
      " Manufacturing Brand: Pepsi\n",
      "****************************************\n",
      "----------BILLING DETAILS:---------- \n",
      "Total Amount:  1836\n",
      "Enjoy Your Day\n",
      "Thank You. Visit Again\n",
      "**********************************\n"
     ]
    }
   ],
   "source": [
    "import json\n",
    "\n",
    "fd = open(\"products.json\",'r')\n",
    "r = fd.read()\n",
    "fd.close()\n",
    "\n",
    "products = json.loads(r)\n",
    "\n",
    "\n",
    "\n",
    "print(\"Welcome to shop\")\n",
    "\n",
    "\n",
    "ui_prod = input(\"Enter the product Id: \")\n",
    "ui_quan = int(input(\"Enter the quantity of the Product: \"))\n",
    "\n",
    "for i in products.keys():\n",
    "    while ui_prod == i:\n",
    "        if ui_quan <= products[i]['quan']:\n",
    "            print(\"****************************************\")\n",
    "            print(\" product:\",products[ui_prod]['name'])\n",
    "            print(\" price:\",products[ui_prod]['price'])\n",
    "            print(\" Expiry date:\",products[ui_prod]['expiry'])\n",
    "            print(\" Manufacturing Brand:\",products[ui_prod]['brand'])\n",
    "            print(\"****************************************\")\n",
    "            print(\"----------BILLING DETAILS:---------- \")\n",
    "            print(\"Total Amount: \",products[ui_prod]['price']*ui_quan) \n",
    "            print(\"Enjoy Your Day\")\n",
    "            print(\"Thank You. Visit Again\")\n",
    "            print(\"**********************************\")\n",
    "            products[ui_prod][\"quan\"] = products[ui_prod][\"quan\"] - ui_quan\n",
    "        else:\n",
    "            print(\"Sorry. Stock of product you enterd is: \",products[ui_prod]['quan'],\"\\nPlease accept our apologies for this inconvenience\")\n",
    "        break\n",
    "if ui_prod not in products.keys():\n",
    "   print(\"Sorry. No product found for ID: \",ui_prod,\"\\Please enter valid product ID\")\n",
    "    \n",
    "    \n",
    "js = json.dumps(products)\n",
    "\n",
    "fd = open(\"products.json\",'w')\n",
    "fd.write(js)\n",
    "fd.close()\n"
   ]
  },
  {
   "cell_type": "code",
   "execution_count": null,
   "metadata": {
    "colab": {
     "base_uri": "https://localhost:8080/"
    },
    "id": "cEGT8d59YAD-",
    "outputId": "eb1b53f1-6bf6-4624-f271-381726766aaa"
   },
   "outputs": [],
   "source": []
  },
  {
   "cell_type": "markdown",
   "metadata": {
    "id": "8FQF-LlBDPnE"
   },
   "source": [
    "**Update Inventory after products sold**"
   ]
  },
  {
   "cell_type": "code",
   "execution_count": 3,
   "metadata": {
    "id": "YSnKOrFMDZDr"
   },
   "outputs": [],
   "source": [
    "\n",
    "fd = open(\"sales.json\",'w')\n",
    "fd.close()\n",
    "sales = {'prod':ui_prod, 'quan':ui_quan, 'amount':products[ui_prod]['price']*ui_quan}\n",
    "sal = json.dumps(sales)\n",
    "fd = open(\"sales.json\",'a')\n",
    "fd.write(sal)\n",
    "fd.close()"
   ]
  },
  {
   "cell_type": "code",
   "execution_count": null,
   "metadata": {},
   "outputs": [],
   "source": []
  }
 ],
 "metadata": {
  "colab": {
   "collapsed_sections": [],
   "name": "selling products.ipynb",
   "provenance": []
  },
  "kernelspec": {
   "display_name": "Python 3",
   "language": "python",
   "name": "python3"
  },
  "language_info": {
   "codemirror_mode": {
    "name": "ipython",
    "version": 3
   },
   "file_extension": ".py",
   "mimetype": "text/x-python",
   "name": "python",
   "nbconvert_exporter": "python",
   "pygments_lexer": "ipython3",
   "version": "3.8.8"
  }
 },
 "nbformat": 4,
 "nbformat_minor": 1
}
